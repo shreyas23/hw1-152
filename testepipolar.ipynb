{
 "cells": [
  {
   "cell_type": "markdown",
   "metadata": {},
   "source": [
    "# HW1 CSE 152 "
   ]
  },
  {
   "cell_type": "code",
   "execution_count": 526,
   "metadata": {},
   "outputs": [
    {
     "name": "stdout",
     "output_type": "stream",
     "text": [
      "Using matplotlib backend: TkAgg\n"
     ]
    }
   ],
   "source": [
    "%matplotlib\n",
    "import numpy as np\n",
    "from imageio import imread\n",
    "from drawLine import drawLine\n",
    "from clickPoints import clickPoints\n",
    "from matplotlib import pyplot as plt\n",
    "import cv2"
   ]
  },
  {
   "cell_type": "markdown",
   "metadata": {},
   "source": [
    "Selecting a pair of images to test with"
   ]
  },
  {
   "cell_type": "code",
   "execution_count": 489,
   "metadata": {},
   "outputs": [],
   "source": [
    "l = imread('blocks1.gif')\n",
    "r = imread('blocks2.gif')"
   ]
  },
  {
   "cell_type": "code",
   "execution_count": 516,
   "metadata": {},
   "outputs": [],
   "source": [
    "xl = clickPoints(l, 10, 1, 1)\n",
    "xr = clickPoints(r, 10, 1, 1)"
   ]
  },
  {
   "cell_type": "markdown",
   "metadata": {},
   "source": [
    "Function below takes in points from the left and right images with shape: (2, N) to calculate the fundamental matrix\n",
    "\n",
    "<img src=\"8pointalg.jpg\" width=450>"
   ]
  },
  {
   "cell_type": "code",
   "execution_count": 620,
   "metadata": {
    "scrolled": false
   },
   "outputs": [
    {
     "data": {
      "text/plain": [
       "array([[-1.34997355e-06,  7.91910637e-06, -6.83012152e-04],\n",
       "       [ 9.40740021e-06,  2.62352625e-05, -5.80919403e-03],\n",
       "       [-1.61252990e-03, -4.52946167e-03,  9.99971334e-01]])"
      ]
     },
     "execution_count": 620,
     "metadata": {},
     "output_type": "execute_result"
    }
   ],
   "source": [
    "def computeF(xl, xr):\n",
    "    \n",
    "    A = np.stack(( xl[0, :] * xr[0, :],\n",
    "                   xl[1, :] * xr[0, :],\n",
    "                   xr[0, :],\n",
    "                   xl[0, :] * xr[1, :],\n",
    "                   xl[1, :] * xr[1, :],\n",
    "                   xr[1, :],\n",
    "                   xl[0, :],\n",
    "                   xl[1, :],\n",
    "                   np.ones(shape=(len(xl[0]),))),\n",
    "                axis=-1)\n",
    "            \n",
    "    (U, D, V) = np.linalg.svd(A, full_matrices=True)\n",
    "    \n",
    "    F = V[-1].reshape(3, 3)\n",
    "    # Enforcing rank 2 constraint by making the smallest singular value 0\n",
    "    (U, D, V) = np.linalg.svd(F, full_matrices=True)\n",
    "\n",
    "    D[-1] = 0\n",
    "    D = np.diag(D)\n",
    "\n",
    "    F = np.matmul(U, np.matmul(D, V))\n",
    "    return F\n",
    "\n",
    "computeF(xr.T, xl.T)"
   ]
  },
  {
   "cell_type": "raw",
   "metadata": {
    "scrolled": false
   },
   "source": [
    "[[ 0.      0.      0.0407]\n",
    " [ 0.      0.     -0.0126]\n",
    " [-0.057   0.0179  0.9973]]"
   ]
  },
  {
   "cell_type": "markdown",
   "metadata": {},
   "source": [
    "## Drawing the epipolar lines"
   ]
  },
  {
   "cell_type": "markdown",
   "metadata": {},
   "source": [
    "Function below takes in points and their respective images with shape: (2, N) to calculate their epipolar lines"
   ]
  },
  {
   "cell_type": "code",
   "execution_count": 624,
   "metadata": {},
   "outputs": [],
   "source": [
    "def epipolar(xl , xr , l , r):\n",
    "    \n",
    "    F = computeF(xl.T, xr.T) * 20\n",
    "\n",
    "    xl = np.hstack((xl, np.ones((10, 1))))\n",
    "    xr = np.hstack((xr, np.ones((10, 1))))\n",
    "    \n",
    "    leftlines = np.array([np.matmul(F, pt) for pt in xl])\n",
    "    rightlines = np.array([np.matmul(F.T, pt) for pt in xr])\n",
    "    \n",
    "    return F, leftlines, rightlines"
   ]
  },
  {
   "cell_type": "code",
   "execution_count": 625,
   "metadata": {
    "scrolled": false
   },
   "outputs": [],
   "source": [
    "F, left, right = epipolar(xl, xr, l, r)"
   ]
  },
  {
   "cell_type": "code",
   "execution_count": 626,
   "metadata": {},
   "outputs": [
    {
     "name": "stdout",
     "output_type": "stream",
     "text": [
      "[[  0.         162.18060049]\n",
      " [111.01338813 242.        ]]\n",
      "[[320.         101.19807257]\n",
      " [146.45952056 242.        ]]\n",
      "[[248.7693334   0.       ]\n",
      " [136.0968701 242.       ]]\n",
      "[[  0.         226.27440183]\n",
      " [ 69.81695751 242.        ]]\n",
      "[[320.         149.52548005]\n",
      " [154.05320611 242.        ]]\n"
     ]
    }
   ],
   "source": [
    "if plt:\n",
    "    plt.clf()\n",
    "plt.imshow(l)\n",
    "drawLine(left[1], l, 'yellow')\n",
    "drawLine(left[3], l, 'cyan')\n",
    "drawLine(left[5], l, 'green')\n",
    "drawLine(left[7], l, 'magenta')\n",
    "drawLine(left[9], l, 'red')"
   ]
  },
  {
   "cell_type": "code",
   "execution_count": 627,
   "metadata": {},
   "outputs": [
    {
     "name": "stdout",
     "output_type": "stream",
     "text": [
      "[[172.24196556   0.        ]\n",
      " [134.55572348 242.        ]]\n",
      "[[  0.         101.45232202]\n",
      " [176.64588272   0.        ]]\n",
      "[[  0.          85.69755663]\n",
      " [177.56481498   0.        ]]\n",
      "[[172.45906976   0.        ]\n",
      " [115.85831629 242.        ]]\n",
      "[[172.85594288   0.        ]\n",
      " [ 81.67888506 242.        ]]\n"
     ]
    }
   ],
   "source": [
    "if plt:\n",
    "    plt.clf()\n",
    "plt.imshow(r)\n",
    "drawLine(right[1], r, 'yellow')\n",
    "drawLine(right[3], r, 'cyan')\n",
    "drawLine(right[5], r, 'green')\n",
    "drawLine(right[7], r, 'magenta')\n",
    "drawLine(right[9], r, 'red')"
   ]
  },
  {
   "cell_type": "code",
   "execution_count": null,
   "metadata": {},
   "outputs": [],
   "source": []
  }
 ],
 "metadata": {
  "kernelspec": {
   "display_name": "Python 3",
   "language": "python",
   "name": "python3"
  },
  "language_info": {
   "codemirror_mode": {
    "name": "ipython",
    "version": 3
   },
   "file_extension": ".py",
   "mimetype": "text/x-python",
   "name": "python",
   "nbconvert_exporter": "python",
   "pygments_lexer": "ipython3",
   "version": "3.6.7"
  }
 },
 "nbformat": 4,
 "nbformat_minor": 2
}
