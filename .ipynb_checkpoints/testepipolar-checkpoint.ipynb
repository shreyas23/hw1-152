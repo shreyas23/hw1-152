{
 "cells": [
  {
   "cell_type": "markdown",
   "metadata": {},
   "source": [
    "# HW1 CSE 152 "
   ]
  },
  {
   "cell_type": "code",
   "execution_count": 19,
   "metadata": {},
   "outputs": [
    {
     "name": "stdout",
     "output_type": "stream",
     "text": [
      "Using matplotlib backend: MacOSX\n"
     ]
    }
   ],
   "source": [
    "%matplotlib auto\n",
    "import numpy as np\n",
    "from matplotlib import pyplot as plt\n",
    "from drawLine import drawLine\n",
    "from imageio import imread\n",
    "from clickPoints import clickPoints"
   ]
  },
  {
   "cell_type": "markdown",
   "metadata": {},
   "source": [
    "Function below takes in points from the left and right images with shape: (2, N) to calculate the fundamental matrix\n",
    "\n",
    "<img src=\"8pointalg.jpg\" width=450>"
   ]
  },
  {
   "cell_type": "code",
   "execution_count": 65,
   "metadata": {},
   "outputs": [],
   "source": [
    "def computeF(xl, xr):\n",
    "    \n",
    "    A = np.array([xl[0, :] * xr[0, :],\n",
    "                  xl[1, :] * xr[0, :],\n",
    "                  xr[0, :],\n",
    "                  xl[0, :] * xr[1, :],\n",
    "                  xl[1, :] * xr[1, :],\n",
    "                  xr[1, :],\n",
    "                  xl[0, :], \n",
    "                  xl[1:, ],\n",
    "                  np.ones(shape=(len(xl[0]), 1))])\n",
    "    \n",
    "    print(A)\n",
    "    \n",
    "    (U, D, V) = np.linalg.svd(A)\n",
    "    \n",
    "    print(V.shape)\n",
    "    \n",
    "    F = V\n",
    "    \n",
    "    return F"
   ]
  },
  {
   "cell_type": "code",
   "execution_count": 66,
   "metadata": {},
   "outputs": [
    {
     "name": "stdout",
     "output_type": "stream",
     "text": [
      "Computing F\n",
      "[array([21794.56771925, 52869.42594394,  6544.59737042, 10910.36273233,\n",
      "       11842.34031443, 56377.2370643 ,  4435.60578953,  9165.51683447,\n",
      "       42018.15416193, 23195.12859246])\n",
      " array([18793.06922127,  1573.95984935,  9460.00814358, 11403.08255594,\n",
      "        8070.59702536, 28588.9938692 , 13960.21800592, 48680.02880346,\n",
      "       37048.12774451, 25044.16215627])\n",
      " array([ 91.78255159, 186.96785908, 172.35659543,  99.90754715,\n",
      "       199.78284341, 289.49555966,  61.34507535, 191.71115557,\n",
      "       217.09641015, 141.50827581])\n",
      " array([27068.91971232, 61571.06540602,  1757.61333554, 18475.02687877,\n",
      "       16807.89106557, 40305.42755853, 13491.50561338,  1008.52617403,\n",
      "       41070.44099683,  6944.71564987])\n",
      " array([23341.04940513,  1833.01375228,  2540.57438929, 19309.37237289,\n",
      "       11454.63751545, 20438.95162958, 42461.92482561,  5356.49915736,\n",
      "       36212.51277983,  7498.32380412])\n",
      " array([113.99420956, 217.7404062 ,  46.28798892, 169.17811664,\n",
      "       283.55275898, 206.96726048, 186.58949141,  21.09490624,\n",
      "       212.19983318,  42.36815216])\n",
      " array([237.45872546, 282.77280492,  37.97126158, 109.20459008,\n",
      "        59.27606251, 194.74301136,  72.30581696,  47.8089906 ,\n",
      "       193.54605695, 163.91358357])\n",
      " array([[204.75644767,   8.41834451,  54.88625556, 114.13634787,\n",
      "         40.39684733,  98.75451597, 227.56868302, 253.92381919,\n",
      "        170.65288053, 176.98019436]])\n",
      " array([[1.],\n",
      "       [1.]])]\n"
     ]
    },
    {
     "ename": "LinAlgError",
     "evalue": "1-dimensional array given. Array must be at least two-dimensional",
     "output_type": "error",
     "traceback": [
      "\u001b[0;31m---------------------------------------------------------------------------\u001b[0m",
      "\u001b[0;31mLinAlgError\u001b[0m                               Traceback (most recent call last)",
      "\u001b[0;32m<ipython-input-66-ec4364a7f56c>\u001b[0m in \u001b[0;36m<module>\u001b[0;34m()\u001b[0m\n\u001b[1;32m      4\u001b[0m \u001b[0mprint\u001b[0m\u001b[0;34m(\u001b[0m\u001b[0;34m\"Computing F\"\u001b[0m\u001b[0;34m)\u001b[0m\u001b[0;34m\u001b[0m\u001b[0m\n\u001b[1;32m      5\u001b[0m \u001b[0;34m\u001b[0m\u001b[0m\n\u001b[0;32m----> 6\u001b[0;31m \u001b[0mcomputeF\u001b[0m\u001b[0;34m(\u001b[0m\u001b[0mtestl\u001b[0m\u001b[0;34m,\u001b[0m \u001b[0mtestr\u001b[0m\u001b[0;34m)\u001b[0m\u001b[0;34m\u001b[0m\u001b[0m\n\u001b[0m",
      "\u001b[0;32m<ipython-input-65-55103ba90711>\u001b[0m in \u001b[0;36mcomputeF\u001b[0;34m(xl, xr)\u001b[0m\n\u001b[1;32m     13\u001b[0m     \u001b[0mprint\u001b[0m\u001b[0;34m(\u001b[0m\u001b[0mA\u001b[0m\u001b[0;34m)\u001b[0m\u001b[0;34m\u001b[0m\u001b[0m\n\u001b[1;32m     14\u001b[0m \u001b[0;34m\u001b[0m\u001b[0m\n\u001b[0;32m---> 15\u001b[0;31m     \u001b[0;34m(\u001b[0m\u001b[0mU\u001b[0m\u001b[0;34m,\u001b[0m \u001b[0mD\u001b[0m\u001b[0;34m,\u001b[0m \u001b[0mV\u001b[0m\u001b[0;34m)\u001b[0m \u001b[0;34m=\u001b[0m \u001b[0mnp\u001b[0m\u001b[0;34m.\u001b[0m\u001b[0mlinalg\u001b[0m\u001b[0;34m.\u001b[0m\u001b[0msvd\u001b[0m\u001b[0;34m(\u001b[0m\u001b[0mA\u001b[0m\u001b[0;34m)\u001b[0m\u001b[0;34m\u001b[0m\u001b[0m\n\u001b[0m\u001b[1;32m     16\u001b[0m \u001b[0;34m\u001b[0m\u001b[0m\n\u001b[1;32m     17\u001b[0m     \u001b[0mprint\u001b[0m\u001b[0;34m(\u001b[0m\u001b[0mV\u001b[0m\u001b[0;34m.\u001b[0m\u001b[0mshape\u001b[0m\u001b[0;34m)\u001b[0m\u001b[0;34m\u001b[0m\u001b[0m\n",
      "\u001b[0;32m/usr/local/lib/python3.6/site-packages/numpy/linalg/linalg.py\u001b[0m in \u001b[0;36msvd\u001b[0;34m(a, full_matrices, compute_uv)\u001b[0m\n\u001b[1;32m   1541\u001b[0m     \u001b[0ma\u001b[0m\u001b[0;34m,\u001b[0m \u001b[0mwrap\u001b[0m \u001b[0;34m=\u001b[0m \u001b[0m_makearray\u001b[0m\u001b[0;34m(\u001b[0m\u001b[0ma\u001b[0m\u001b[0;34m)\u001b[0m\u001b[0;34m\u001b[0m\u001b[0m\n\u001b[1;32m   1542\u001b[0m     \u001b[0m_assertNoEmpty2d\u001b[0m\u001b[0;34m(\u001b[0m\u001b[0ma\u001b[0m\u001b[0;34m)\u001b[0m\u001b[0;34m\u001b[0m\u001b[0m\n\u001b[0;32m-> 1543\u001b[0;31m     \u001b[0m_assertRankAtLeast2\u001b[0m\u001b[0;34m(\u001b[0m\u001b[0ma\u001b[0m\u001b[0;34m)\u001b[0m\u001b[0;34m\u001b[0m\u001b[0m\n\u001b[0m\u001b[1;32m   1544\u001b[0m     \u001b[0mt\u001b[0m\u001b[0;34m,\u001b[0m \u001b[0mresult_t\u001b[0m \u001b[0;34m=\u001b[0m \u001b[0m_commonType\u001b[0m\u001b[0;34m(\u001b[0m\u001b[0ma\u001b[0m\u001b[0;34m)\u001b[0m\u001b[0;34m\u001b[0m\u001b[0m\n\u001b[1;32m   1545\u001b[0m \u001b[0;34m\u001b[0m\u001b[0m\n",
      "\u001b[0;32m/usr/local/lib/python3.6/site-packages/numpy/linalg/linalg.py\u001b[0m in \u001b[0;36m_assertRankAtLeast2\u001b[0;34m(*arrays)\u001b[0m\n\u001b[1;32m    202\u001b[0m         \u001b[0;32mif\u001b[0m \u001b[0ma\u001b[0m\u001b[0;34m.\u001b[0m\u001b[0mndim\u001b[0m \u001b[0;34m<\u001b[0m \u001b[0;36m2\u001b[0m\u001b[0;34m:\u001b[0m\u001b[0;34m\u001b[0m\u001b[0m\n\u001b[1;32m    203\u001b[0m             raise LinAlgError('%d-dimensional array given. Array must be '\n\u001b[0;32m--> 204\u001b[0;31m                     'at least two-dimensional' % a.ndim)\n\u001b[0m\u001b[1;32m    205\u001b[0m \u001b[0;34m\u001b[0m\u001b[0m\n\u001b[1;32m    206\u001b[0m \u001b[0;32mdef\u001b[0m \u001b[0m_assertSquareness\u001b[0m\u001b[0;34m(\u001b[0m\u001b[0;34m*\u001b[0m\u001b[0marrays\u001b[0m\u001b[0;34m)\u001b[0m\u001b[0;34m:\u001b[0m\u001b[0;34m\u001b[0m\u001b[0m\n",
      "\u001b[0;31mLinAlgError\u001b[0m: 1-dimensional array given. Array must be at least two-dimensional"
     ]
    }
   ],
   "source": [
    "testl = 300 * np.random.ranf(size=(2, 10))\n",
    "testr = 300 * np.random.ranf(size=(2, 10))\n",
    "\n",
    "print(\"Computing F\")\n",
    "\n",
    "computeF(testl, testr)"
   ]
  },
  {
   "cell_type": "markdown",
   "metadata": {},
   "source": [
    "## Drawing the epipolar lines"
   ]
  },
  {
   "cell_type": "markdown",
   "metadata": {},
   "source": [
    "Function below takes in points and their respective images with shape: (2, N) to calculate their epipolar lines"
   ]
  },
  {
   "cell_type": "code",
   "execution_count": 15,
   "metadata": {},
   "outputs": [],
   "source": [
    "def epipolar(xl , xr , l , r):\n",
    "    F = computeF(xl, xr)\n",
    "    return F"
   ]
  },
  {
   "cell_type": "markdown",
   "metadata": {},
   "source": [
    "    leftlines = \n",
    "    \n",
    "    rightlines = \n",
    "    \n",
    "    drawLine(leftlines[: ,1], l, ’yellow’)\n",
    "    drawLine(leftlines[: ,3], l, ’cyan’)\n",
    "    drawLine(leftlines[: ,5], l, ’green’)\n",
    "    drawLine(leftlines[: ,7], l, ’magenta’)\n",
    "    drawLine(leftlines[: ,9], l, ’red’)\n",
    "    plt.show()\n",
    "\n",
    "    drawLine(rightlines[: ,1], r, ’yellow’)\n",
    "    drawLine(rightlines[: ,3], r, ’cyan’)\n",
    "    drawLine(rightlines[: ,5], r, ’green’)\n",
    "    drawLine(rightlines[: ,7], r, ’magenta’)\n",
    "    drawLine(rightlines[: ,9], r, ’red’)\n",
    "    plt.show()"
   ]
  },
  {
   "cell_type": "markdown",
   "metadata": {},
   "source": [
    "Testing with a pair of images"
   ]
  },
  {
   "cell_type": "code",
   "execution_count": 25,
   "metadata": {},
   "outputs": [],
   "source": [
    "l = imread('blocks1.gif')\n",
    "r = imread('blocks2.gif')\n",
    "\n",
    "xl = clickPoints(l, 10, 1, 1)\n",
    "xr = clickPoints(r, 10, 1, 1)"
   ]
  },
  {
   "cell_type": "code",
   "execution_count": 30,
   "metadata": {},
   "outputs": [
    {
     "name": "stdout",
     "output_type": "stream",
     "text": [
      "[[ 69.80281247 155.9590709 ]\n",
      " [ 56.86364453  74.58608141]\n",
      " [158.93930272  78.03652619]\n",
      " [175.31381647 156.39807041]\n",
      " [174.84246575 192.92775077]\n",
      " [252.85100899 180.6726322 ]\n",
      " [255.67911327 104.07814111]\n",
      " [300.6931065  105.2565179 ]\n",
      " [205.9516129   64.24900574]\n",
      " [254.02938577  67.7841361 ]] [[127.2360436  189.86397113]\n",
      " [199.11702754 159.69752541]\n",
      " [198.41000147 207.30394756]\n",
      " [127.00036824 240.53417293]\n",
      " [271.94071292 174.78074827]\n",
      " [275.00449256  80.51060539]\n",
      " [254.73641184  56.2360436 ]\n",
      " [205.48026219  31.49013109]\n",
      " [191.57541611  11.92907645]\n",
      " [156.93113861  56.70739431]]\n"
     ]
    }
   ],
   "source": [
    "F = epipolar(xl, xr, l, r)"
   ]
  }
 ],
 "metadata": {
  "kernelspec": {
   "display_name": "Python 3",
   "language": "python",
   "name": "python3"
  },
  "language_info": {
   "codemirror_mode": {
    "name": "ipython",
    "version": 3
   },
   "file_extension": ".py",
   "mimetype": "text/x-python",
   "name": "python",
   "nbconvert_exporter": "python",
   "pygments_lexer": "ipython3",
   "version": "3.6.5"
  }
 },
 "nbformat": 4,
 "nbformat_minor": 2
}
